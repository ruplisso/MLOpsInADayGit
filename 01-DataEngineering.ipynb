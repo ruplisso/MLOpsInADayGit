{
  "cells": [
    {
      "cell_type": "markdown",
      "source": [
        "# 01 - Data Engineering\r\n",
        "\r\n",
        " In this step, we download data and register the data as Azure Machine Learning Dataset manually. In later step, we will automate the step so it can be scheduled.\r\n",
        "\r\n",
        "\r\n",
        "By creating a dataset, you create a reference to the data source location, along with a copy of its metadata. Because the data remains in its existing location, you incur no extra storage cost, and don't risk the integrity of your data sources. Also datasets are lazily evaluated, which aids in workflow performance speeds. You can create datasets from datastores, public URLs, and Azure Open Datasets.\r\n",
        "\r\n",
        "For a low-code experience, Create Azure Machine Learning datasets with the Azure Machine Learning studio.\r\n",
        "\r\n",
        "With Azure Machine Learning datasets, you can:\r\n",
        "\r\n",
        "- Keep a single copy of data in your storage, referenced by datasets.\r\n",
        "\r\n",
        "- Seamlessly access data during model training without worrying about connection strings or data paths. Learn more about how to train with datasets.\r\n",
        "\r\n",
        "- Share data and collaborate with other users.\r\n",
        "\r\n",
        "In this exercise, you learn how to create Azure Machine Learning datasets to access data for your local or \r\n",
        "remote experiments with the Azure Machine Learning Python SDK. To understand where datasets fit in Azure Machine \r\n",
        "Learning's overall data access workflow, see the [Securely access data](https://docs.microsoft.com/en-us/azure/machine-learning/concept-data#data-workflow) article.\r\n",
        "\r\n",
        "![Data Engineering](./images/01-DataEngineering.jpg)"
      ],
      "metadata": {
        "nteract": {
          "transient": {
            "deleting": false
          }
        }
      }
    },
    {
      "cell_type": "markdown",
      "source": [
        "## Data Engineering \r\n",
        "\r\n",
        "**Input** : Raw Data \r\n",
        "\r\n",
        "**Output** : Registered Data Set (ProductReview)"
      ],
      "metadata": {
        "nteract": {
          "transient": {
            "deleting": false
          }
        }
      }
    },
    {
      "cell_type": "code",
      "source": [
        "import os\r\n",
        "import json\r\n",
        "import gzip\r\n",
        "import pandas as pd\r\n",
        "from urllib.request import urlopen"
      ],
      "outputs": [],
      "execution_count": 4,
      "metadata": {
        "jupyter": {
          "source_hidden": false,
          "outputs_hidden": false
        },
        "nteract": {
          "transient": {
            "deleting": false
          }
        },
        "gather": {
          "logged": 1638251385245
        }
      }
    },
    {
      "cell_type": "markdown",
      "source": [
        "## Download data from source"
      ],
      "metadata": {
        "nteract": {
          "transient": {
            "deleting": false
          }
        }
      }
    },
    {
      "cell_type": "code",
      "source": [
        "from tqdm import tqdm\r\n",
        "import requests\r\n",
        "\r\n",
        "url = \"http://deepyeti.ucsd.edu/jianmo/amazon/categoryFilesSmall/Software_5.json.gz\"\r\n",
        "response = requests.get(url, stream=True)\r\n",
        "\r\n",
        "with open(\"Software_5.json.gz\", \"wb\") as handle:\r\n",
        "    for data in tqdm(response.iter_content()):\r\n",
        "        handle.write(data)"
      ],
      "outputs": [
        {
          "output_type": "stream",
          "name": "stderr",
          "text": "5339013it [00:53, 99494.44it/s] \n"
        }
      ],
      "execution_count": 2,
      "metadata": {
        "jupyter": {
          "source_hidden": false,
          "outputs_hidden": false
        },
        "nteract": {
          "transient": {
            "deleting": false
          }
        },
        "gather": {
          "logged": 1638251262043
        }
      }
    },
    {
      "cell_type": "markdown",
      "source": [
        "## Process received data"
      ],
      "metadata": {
        "nteract": {
          "transient": {
            "deleting": false
          }
        }
      }
    },
    {
      "cell_type": "code",
      "source": [
        "### load the meta data\r\n",
        "\r\n",
        "data = []\r\n",
        "with gzip.open('Software_5.json.gz') as f:\r\n",
        "    for l in f:\r\n",
        "        data.append(json.loads(l.strip()))\r\n",
        "    \r\n",
        "# total length of list, this number equals total number of products\r\n",
        "print(len(data))\r\n",
        "\r\n",
        "# first row of the list\r\n",
        "print(data[0])"
      ],
      "outputs": [
        {
          "output_type": "stream",
          "name": "stdout",
          "text": "12805\n{'overall': 4.0, 'verified': False, 'reviewTime': '10 20, 2010', 'reviewerID': 'A38NELQT98S4H8', 'asin': '0321719816', 'style': {'Format:': ' DVD-ROM'}, 'reviewerName': 'WB Halper', 'reviewText': \"I've been using Dreamweaver (and it's predecessor Macromedia's UltraDev) for many years.  For someone who is an experienced web designer, this course is a high-level review of the CS5 version of Dreamweaver, but it doesn't go into a great enough level of detail to find it very useful.\\n\\nOn the other hand, this is a great tool for someone who is a relative novice at web design.  It starts off with a basic overview of HTML and continues through the concepts necessary to build a modern web site.  Someone who goes through this course should exit with enough knowledge to create something that does what you want it do do...within reason.  Don't expect to go off and build an entire e-commerce system with only this class under your belt.\\n\\nIt's important to note that there's a long gap from site design to actual implementation.  This course teaches you how to implement a design.  The user interface and overall user experience is a different subject that isn't covered here...it's possible to do a great implementation of an absolutely abysmal design.  I speak from experience.  :)\\n\\nAs I said above, if you're a novice, a relative newcomer or just an experienced web designer who wants a refresher course, this is a good way to do it.\", 'summary': 'A solid overview of Dreamweaver CS5', 'unixReviewTime': 1287532800}\n"
        }
      ],
      "execution_count": 5,
      "metadata": {
        "jupyter": {
          "source_hidden": false,
          "outputs_hidden": false
        },
        "nteract": {
          "transient": {
            "deleting": false
          }
        },
        "gather": {
          "logged": 1638251391505
        }
      }
    },
    {
      "cell_type": "code",
      "source": [
        "# convert list into pandas dataframe\r\n",
        "\r\n",
        "df = pd.DataFrame.from_dict(data)\r\n",
        "\r\n",
        "print(len(df))"
      ],
      "outputs": [
        {
          "output_type": "stream",
          "name": "stdout",
          "text": "12805\n"
        }
      ],
      "execution_count": 6,
      "metadata": {
        "jupyter": {
          "source_hidden": false,
          "outputs_hidden": false
        },
        "nteract": {
          "transient": {
            "deleting": false
          }
        },
        "gather": {
          "logged": 1638251396634
        }
      }
    },
    {
      "cell_type": "code",
      "source": [
        "### remove rows with unformatted title (i.e. some 'title' may still contain html style content)\r\n",
        "\r\n",
        "df3 = df.fillna('')\r\n",
        "df3.iloc[2]"
      ],
      "outputs": [
        {
          "output_type": "execute_result",
          "execution_count": 7,
          "data": {
            "text/plain": "overall                                                           5\nverified                                                      False\nreviewTime                                              10 16, 2010\nreviewerID                                            ACJT8MUC0LRF0\nasin                                                     0321719816\nstyle                                       {'Format:': ' DVD-ROM'}\nreviewerName                                              D. Fowler\nreviewText        If you've been wanting to learn how to create ...\nsummary           This is excellent software for those who want ...\nunixReviewTime                                           1287187200\nvote                                                              3\nimage                                                              \nName: 2, dtype: object"
          },
          "metadata": {}
        }
      ],
      "execution_count": 7,
      "metadata": {
        "jupyter": {
          "source_hidden": false,
          "outputs_hidden": false
        },
        "nteract": {
          "transient": {
            "deleting": false
          }
        },
        "gather": {
          "logged": 1638251397102
        }
      }
    },
    {
      "cell_type": "markdown",
      "source": [
        "## Register processed data as Dataset"
      ],
      "metadata": {
        "nteract": {
          "transient": {
            "deleting": false
          }
        }
      }
    },
    {
      "cell_type": "code",
      "source": [
        "from azureml.core import Dataset, Datastore, Workspace\r\n",
        "from azureml.data.datapath import DataPath\r\n",
        "\r\n",
        "workspace = Workspace.from_config()\r\n",
        "default_datastore = Datastore.get_default(workspace)\r\n",
        "\r\n",
        "ds_name = 'ProductReview'\r\n",
        "data_path = DataPath(datastore=default_datastore, path_on_datastore='product_review')\r\n",
        "\r\n",
        "ds = Dataset.Tabular.register_pandas_dataframe(df3, \r\n",
        "                                    default_datastore, \r\n",
        "                                    ds_name, \r\n",
        "                                    description=None, \r\n",
        "                                    tags=None, \r\n",
        "                                    show_progress=True)"
      ],
      "outputs": [
        {
          "output_type": "stream",
          "name": "stderr",
          "text": "Method register_pandas_dataframe: This is an experimental method, and may change at any time. Please see https://aka.ms/azuremlexperimental for more information.\n"
        },
        {
          "output_type": "stream",
          "name": "stdout",
          "text": "Validating arguments.\nArguments validated.\nSuccessfully obtained datastore reference and path.\nUploading file to managed-dataset/7e03b820-d14b-415b-b43e-bba2408163c7/\nSuccessfully uploaded file to datastore.\nCreating and registering a new dataset.\nSuccessfully created and registered a new dataset.\n"
        }
      ],
      "execution_count": 8,
      "metadata": {
        "jupyter": {
          "source_hidden": false,
          "outputs_hidden": false
        },
        "nteract": {
          "transient": {
            "deleting": false
          }
        },
        "gather": {
          "logged": 1638251406934
        }
      }
    },
    {
      "cell_type": "markdown",
      "source": [
        "## Show Dataset\r\n",
        "\r\n",
        "Below screenshot shows details of **ProductReview** dataset:\r\n",
        "\r\n",
        "![Dataset](./images/01-DataEngineeringOutput.jpb.jpg)"
      ],
      "metadata": {
        "nteract": {
          "transient": {
            "deleting": false
          }
        }
      }
    },
    {
      "cell_type": "code",
      "source": [],
      "outputs": [],
      "execution_count": null,
      "metadata": {
        "jupyter": {
          "source_hidden": false,
          "outputs_hidden": false
        },
        "nteract": {
          "transient": {
            "deleting": false
          }
        }
      }
    }
  ],
  "metadata": {
    "kernelspec": {
      "name": "python3-azureml",
      "language": "python",
      "display_name": "Python 3.6 - AzureML"
    },
    "language_info": {
      "name": "python",
      "version": "3.6.9",
      "mimetype": "text/x-python",
      "codemirror_mode": {
        "name": "ipython",
        "version": 3
      },
      "pygments_lexer": "ipython3",
      "nbconvert_exporter": "python",
      "file_extension": ".py"
    },
    "kernel_info": {
      "name": "python3-azureml"
    },
    "nteract": {
      "version": "nteract-front-end@1.0.0"
    },
    "microsoft": {
      "host": {
        "AzureML": {
          "notebookHasBeenCompleted": true
        }
      }
    }
  },
  "nbformat": 4,
  "nbformat_minor": 0
}