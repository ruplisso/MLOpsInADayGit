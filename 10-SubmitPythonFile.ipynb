{
  "cells": [
    {
      "cell_type": "code",
      "source": [
        "import os\n",
        "os.makedirs('sample',exist_ok=True)"
      ],
      "outputs": [],
      "execution_count": 1,
      "metadata": {
        "jupyter": {
          "source_hidden": false,
          "outputs_hidden": false
        },
        "nteract": {
          "transient": {
            "deleting": false
          }
        },
        "gather": {
          "logged": 1647953336012
        }
      }
    },
    {
      "cell_type": "code",
      "source": [
        "%%writefile sample/sample.py\n",
        "from azureml.core import Workspace, Dataset\n",
        "from azureml.core.run import Run\n",
        "\n",
        "print(\"start of execution\")\n",
        "run = Run.get_context()\n",
        "workspace = run.experiment.workspace\n",
        "print(\"end of execution\")"
      ],
      "outputs": [
        {
          "output_type": "stream",
          "name": "stdout",
          "text": "Overwriting sample/sample.py\n"
        }
      ],
      "execution_count": 2,
      "metadata": {}
    },
    {
      "cell_type": "code",
      "source": [
        "import azureml.core\n",
        "from azureml.core import Workspace, Experiment, Datastore, Environment\n",
        "from azureml.core import ScriptRunConfig\n",
        "from azureml.core.runconfig import RunConfiguration\n",
        "from azureml.core.conda_dependencies import CondaDependencies\n",
        "\n",
        "source_directory = './sample'\n",
        "script_name = 'sample.py'\n",
        "\n",
        "workspace = Workspace.from_config()\n",
        "\n",
        "env = Environment.get(workspace=workspace, name=\"AzureML-sklearn-0.24-ubuntu18.04-py37-cpu\")\n",
        "training_step = ScriptRunConfig(source_directory=source_directory,\n",
        "                      script=script_name,\n",
        "                      compute_target='local', # local training\n",
        "                      environment=env)\n",
        "\n",
        "# init experiment\n",
        "experiment = Experiment(workspace=workspace, name='MLOps-Execute')\n",
        "\n",
        "# submit experiment\n",
        "run = experiment.submit(config=training_step)\n",
        "\n"
      ],
      "outputs": [],
      "execution_count": 3,
      "metadata": {
        "jupyter": {
          "source_hidden": false,
          "outputs_hidden": false
        },
        "nteract": {
          "transient": {
            "deleting": false
          }
        },
        "gather": {
          "logged": 1647953388455
        }
      }
    }
  ],
  "metadata": {
    "kernelspec": {
      "name": "python38-azureml",
      "language": "python",
      "display_name": "Python 3.8 - AzureML"
    },
    "language_info": {
      "name": "python",
      "version": "3.8.1",
      "mimetype": "text/x-python",
      "codemirror_mode": {
        "name": "ipython",
        "version": 3
      },
      "pygments_lexer": "ipython3",
      "nbconvert_exporter": "python",
      "file_extension": ".py"
    },
    "kernel_info": {
      "name": "python38-azureml"
    },
    "nteract": {
      "version": "nteract-front-end@1.0.0"
    }
  },
  "nbformat": 4,
  "nbformat_minor": 0
}