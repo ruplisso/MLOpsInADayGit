{
  "cells": [
    {
      "cell_type": "markdown",
      "source": [
        "# Model Training & Building\r\n",
        "\r\n",
        "In this step, we are ready to do some experiments and select the best model for production use.\r\n",
        "\r\n",
        "![Training](./images/02.1-ModelRegistration.jpg)\r\n",
        "\r\n"
      ],
      "metadata": {
        "nteract": {
          "transient": {
            "deleting": false
          }
        }
      }
    },
    {
      "cell_type": "markdown",
      "source": [
        "## Training\r\n",
        "\r\n",
        "**Input** : Trained Model\r\n",
        "\r\n",
        "**Output** : Registered Model in Model Registry"
      ],
      "metadata": {
        "nteract": {
          "transient": {
            "deleting": false
          }
        }
      }
    },
    {
      "cell_type": "code",
      "source": [
        "from azureml.core import Workspace\r\n",
        "from azureml.core.model import Model\r\n",
        "import sklearn\r\n",
        "\r\n",
        "# Get workspace from run context\r\n",
        "workspace = Workspace.from_config()\r\n",
        "\r\n",
        "# Load Data\r\n",
        "mnb_model = Model.register(model_path=\"./models/mnb.pkl\",\r\n",
        "                          model_name=\"ProductReview-NaiveBayes\",\r\n",
        "                          tags={'area': \"NLP\", 'type': \"Classification\"},\r\n",
        "                          description=\"Multinomial-NaiveBayes for Product Review\",\r\n",
        "                          model_framework=Model.Framework.SCIKITLEARN,  # Framework used to create the model.\r\n",
        "                          model_framework_version=sklearn.__version__,\r\n",
        "                          workspace=workspace)\r\n",
        "\r\n",
        "vector = Model.register(model_path=\"./models/vec.pkl\",\r\n",
        "                          model_name=\"ProductReview-CountVector\",\r\n",
        "                          tags={'area': \"NLP\", 'type': \"Classification\"},\r\n",
        "                          description=\"Multinomial-NaiveBayes for Product Review\",\r\n",
        "                          model_framework=Model.Framework.SCIKITLEARN,  # Framework used to create the model.\r\n",
        "                          model_framework_version=sklearn.__version__,\r\n",
        "                          workspace=workspace)"
      ],
      "outputs": [
        {
          "output_type": "stream",
          "name": "stdout",
          "text": "Performing interactive authentication. Please follow the instructions on the terminal.\nTo sign in, use a web browser to open the page https://microsoft.com/devicelogin and enter the code A6JDHKNLJ to authenticate.\nYou have logged in. Now let us find all the subscriptions to which you have access...\nInteractive authentication successfully completed.\nRegistering model ProductReview-NaiveBayes\nRegistering model ProductReview-CountVector\n"
        },
        {
          "output_type": "stream",
          "name": "stderr",
          "text": "Failed to authenticate to tenant '2008ffa9-c9b2-4d97-9ad9-4ace25386be7' due to error 'Get Token request returned http error: 400 and server response: {\"error\":\"interaction_required\",\"error_description\":\"AADSTS50076: Due to a configuration change made by your administrator, or because you moved to a new location, you must use multi-factor authentication to access '797f4846-ba00-4fd7-ba43-dac1f8f63013'.\\r\\nTrace ID: 3c407ada-ec5f-4bd2-ae77-c89730f88600\\r\\nCorrelation ID: 47ea35a7-0a64-4526-9e69-34ea0e272dfd\\r\\nTimestamp: 2021-12-05 22:20:51Z\",\"error_codes\":[50076],\"timestamp\":\"2021-12-05 22:20:51Z\",\"trace_id\":\"3c407ada-ec5f-4bd2-ae77-c89730f88600\",\"correlation_id\":\"47ea35a7-0a64-4526-9e69-34ea0e272dfd\",\"error_uri\":\"https://login.microsoftonline.com/error?code=50076\",\"suberror\":\"basic_action\"}'.Will continue to look for other tenants to find subscriptions to which you have access\n"
        }
      ],
      "execution_count": 1,
      "metadata": {
        "jupyter": {
          "source_hidden": false,
          "outputs_hidden": false
        },
        "nteract": {
          "transient": {
            "deleting": false
          }
        },
        "gather": {
          "logged": 1638742859564
        }
      }
    },
    {
      "cell_type": "markdown",
      "source": [
        "## Model Registry\r\n",
        "\r\n",
        "![Model Registry](./images/02.1-ModelRegistrationOutput.jpg)"
      ],
      "metadata": {
        "nteract": {
          "transient": {
            "deleting": false
          }
        }
      }
    },
    {
      "cell_type": "code",
      "source": [],
      "outputs": [],
      "execution_count": null,
      "metadata": {
        "jupyter": {
          "source_hidden": false,
          "outputs_hidden": false
        },
        "nteract": {
          "transient": {
            "deleting": false
          }
        }
      }
    }
  ],
  "metadata": {
    "kernelspec": {
      "name": "python3-azureml",
      "language": "python",
      "display_name": "Python 3.6 - AzureML"
    },
    "language_info": {
      "name": "python",
      "version": "3.6.9",
      "mimetype": "text/x-python",
      "codemirror_mode": {
        "name": "ipython",
        "version": 3
      },
      "pygments_lexer": "ipython3",
      "nbconvert_exporter": "python",
      "file_extension": ".py"
    },
    "kernel_info": {
      "name": "python3-azureml"
    },
    "microsoft": {
      "host": {
        "AzureML": {
          "notebookHasBeenCompleted": true
        }
      }
    },
    "nteract": {
      "version": "nteract-front-end@1.0.0"
    }
  },
  "nbformat": 4,
  "nbformat_minor": 0
}