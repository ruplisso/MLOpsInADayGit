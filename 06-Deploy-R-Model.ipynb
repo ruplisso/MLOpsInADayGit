{
  "cells": [
    {
      "cell_type": "code",
      "source": [
        "%%writefile score.R\r\n",
        "fahrenheit_to_celsius <- function(temp_F) {\r\n",
        "  temp_C <- (temp_F - 32) * 5 / 9\r\n",
        "  return(temp_C)\r\n",
        "}"
      ],
      "outputs": [],
      "execution_count": null,
      "metadata": {
        "jupyter": {
          "source_hidden": false,
          "outputs_hidden": false
        },
        "nteract": {
          "transient": {
            "deleting": false
          }
        }
      }
    },
    {
      "cell_type": "markdown",
      "source": [
        "\r\n",
        "- AML scoring expects python file and below is example of how you can use R function from Python using rpy2 package ( https://rpy2.github.io/doc/latest/html/introduction.html# )"
      ],
      "metadata": {
        "nteract": {
          "transient": {
            "deleting": false
          }
        }
      }
    },
    {
      "cell_type": "code",
      "source": [
        "%%writefile score.py\r\n",
        "import readline\r\n",
        "import joblib\r\n",
        "import os\r\n",
        "import json\r\n",
        "import numpy as np\r\n",
        "import pandas as pd\r\n",
        "import rpy2\r\n",
        "import rpy2.robjects as ro\r\n",
        "from rpy2.robjects.packages import importr\r\n",
        "from rpy2.robjects import pandas2ri\r\n",
        "from rpy2.robjects.conversion import localconverter\r\n",
        "from inference_schema.schema_decorators import input_schema, output_schema\r\n",
        "from inference_schema.parameter_types.numpy_parameter_type import NumpyParameterType\r\n",
        "from azureml.core.model import Model\r\n",
        "\r\n",
        "def init():\r\n",
        "    global r_model_path,r_entry_script, score_function_r\r\n",
        "    # The AZUREML_MODEL_DIR environment variable indicates\r\n",
        "    # a directory containing the model file you registered.\r\n",
        "    \r\n",
        "    # r_model_path = Model.get_model_path(model_name='my-r-model')    \r\n",
        "    r_entry_script = Model.get_model_path(model_name='my-r-script')\r\n",
        "    \r\n",
        "    # Defining the R script and loading the instance in Python\r\n",
        "    r = ro.r\r\n",
        "    r['source'](r_entry_script)\r\n",
        "    # Loading the function we have defined in R.\r\n",
        "    score_function_r = ro.globalenv['fahrenheit_to_celsius']\r\n",
        "\r\n",
        "def run(raw_data):\r\n",
        "    pd_df = pd.DataFrame(json.loads(raw_data)['data'])\r\n",
        "    with localconverter(ro.default_converter + pandas2ri.converter):\r\n",
        "        r_from_pd_df = ro.conversion.py2rpy(pd_df)\r\n",
        "\r\n",
        "    # r_from_pd_df\r\n",
        "    df_result_r = score_function_r(r_from_pd_df)\r\n",
        "\r\n",
        "    with localconverter(ro.default_converter + pandas2ri.converter):\r\n",
        "        pd_from_r_df = ro.conversion.rpy2py(df_result_r)\r\n",
        "\r\n",
        "    return pd_from_r_df.to_json()\r\n"
      ],
      "outputs": [],
      "execution_count": null,
      "metadata": {}
    },
    {
      "cell_type": "markdown",
      "source": [
        "- A custom docker image is created to build, compile R and install any required R libraries. NOTE: Intial build can take upto 20 min"
      ],
      "metadata": {
        "nteract": {
          "transient": {
            "deleting": false
          }
        }
      }
    },
    {
      "cell_type": "code",
      "source": [
        "%%writefile deployment/Dockerfile\r\n",
        "FROM mcr.microsoft.com/azureml/openmpi3.1.2-ubuntu18.04\r\n",
        "RUN mkdir /usr/share/man/man1 && apt-get update && apt-get install --no-install-recommends -y openjdk-8-jdk\r\n",
        "ENV JAVA_HOME /usr/lib/jvm/java-8-openjdk-amd64/\r\n",
        "ENV DEBIAN_FRONTEND=noninteractive\r\n",
        "RUN apt-get update \\\r\n",
        "  && apt-get install --yes \\\r\n",
        "    libssl-dev \\\r\n",
        "    libfuse-dev \\\r\n",
        "    python3 python3-pip \\\r\n",
        "    wget \\\r\n",
        "    openjdk-8-jdk \\\r\n",
        "    build-essential gfortran libreadline-dev libxml2-dev libcurl4-openssl-dev libpcre2-dev libbz2-dev liblzma-dev \\\r\n",
        "  && apt-get clean \\\r\n",
        "  && rm -rf /var/lib/apt/lists/* /tmp/* /var/tmp/*\r\n",
        "# Conda Environment\r\n",
        "ENV MINICONDA_VERSION py37_4.9.2\r\n",
        "ENV PATH /opt/miniconda/bin:$PATH\r\n",
        "RUN wget -qO /tmp/miniconda.sh https://repo.continuum.io/miniconda/Miniconda3-${MINICONDA_VERSION}-Linux-x86_64.sh && \\\r\n",
        "    bash /tmp/miniconda.sh -bf -p /opt/miniconda && \\\r\n",
        "    conda clean -ay && \\\r\n",
        "    rm -rf /opt/miniconda/pkgs && \\\r\n",
        "    rm /tmp/miniconda.sh && \\\r\n",
        "    find / -type d -name __pycache__ | xargs rm -rf\r\n",
        "RUN wget -qO R-4.0.4.tar.gz https://cran.r-project.org/src/base/R-4/R-4.0.4.tar.gz && \\\r\n",
        "    tar -xvf R-4.0.4.tar.gz && \\\r\n",
        "    cd R-4.0.4 && \\\r\n",
        "    ./configure --enable-R-shlib --with-x=no --without-recommended-packages && \\\r\n",
        "    make -j4 && make install && rm -rf /R-4.0.4.tar.gz\r\n",
        "ENV LD_LIBRARY_PATH=\"/usr/local/lib/R/lib:$LD_LIBRARY_PATH\"\r\n",
        "RUN ldconfig\r\n",
        "RUN R -e \"install.packages(c('dplyr'), repos = 'https://cloud.r-project.org/')\"\r\n",
        "RUN R -e \"install.packages(c('conflicted'), repos = 'https://cloud.r-project.org/')\""
      ],
      "outputs": [
        {
          "output_type": "stream",
          "name": "stdout",
          "text": "Writing deployment/Dockerfile\n"
        }
      ],
      "execution_count": 2,
      "metadata": {
        "jupyter": {
          "source_hidden": false,
          "outputs_hidden": false
        },
        "nteract": {
          "transient": {
            "deleting": false
          }
        }
      }
    },
    {
      "cell_type": "markdown",
      "source": [
        "- Python dependency file to read input data, pass to R function and respond back in json"
      ],
      "metadata": {
        "nteract": {
          "transient": {
            "deleting": false
          }
        }
      }
    },
    {
      "cell_type": "code",
      "source": [
        "%%writefile deployment/conda_dependencies.yml\r\n",
        "channels:\r\n",
        "- conda-forge\r\n",
        "dependencies:\r\n",
        "- python=3.7\r\n",
        "- pip:\r\n",
        "  - azureml-core==1.34.0\r\n",
        "  - azureml-defaults==1.34.0\r\n",
        "  - azureml-telemetry==1.34.0\r\n",
        "  - azureml-train-restclients-hyperdrive==1.34.0\r\n",
        "  - azureml-train-core==1.34.0\r\n",
        "  - azureml-monitoring\r\n",
        "  - joblib\r\n",
        "  - pandas\r\n",
        "  - tzlocal\r\n",
        "  - rpy2==3.4.5\r\n",
        "name: azureml_4dd1b7149337b0438e0e64ae5a60fd4e\r\n"
      ],
      "outputs": [
        {
          "output_type": "stream",
          "name": "stdout",
          "text": "Writing deployment/conda_dependencies.yml\n"
        }
      ],
      "execution_count": 3,
      "metadata": {
        "jupyter": {
          "source_hidden": false,
          "outputs_hidden": false
        },
        "nteract": {
          "transient": {
            "deleting": false
          }
        }
      }
    },
    {
      "cell_type": "markdown",
      "source": [
        "- Deployment"
      ],
      "metadata": {
        "nteract": {
          "transient": {
            "deleting": false
          }
        }
      }
    },
    {
      "cell_type": "code",
      "source": [
        "from azureml.core import Image, Workspace, Webservice, Model, Environment\r\n",
        "from azureml.core.webservice import AksWebservice\r\n",
        "from azureml.core.authentication import ServicePrincipalAuthentication\r\n",
        "from azureml.core.model import InferenceConfig\r\n",
        "from azureml.core.compute import ComputeTarget\r\n",
        "from azureml.core.conda_dependencies import CondaDependencies\r\n",
        "\r\n",
        "# Choose a name for your AKS cluster\r\n",
        "aks_name = 'cpu-inference'    \r\n",
        "aks_target = ComputeTarget(workspace=workspace, name=aks_name)\r\n",
        "\r\n",
        "# Create a customer docker container with R\r\n",
        "r_env = Environment(\"custom\")\r\n",
        "r_env.docker.enabled = True\r\n",
        "r_env.docker.base_image = None\r\n",
        "r_env.inferencing_stack_version='latest'\r\n",
        "r_env.docker.base_dockerfile = \"./deployment/Dockerfile\"\r\n",
        "r_env.python.conda_dependencies = CondaDependencies(conda_dependencies_file_path='./deployment/conda_dependencies.yml')\r\n",
        "\r\n",
        "inference_config = InferenceConfig(entry_script=\"score.py\", environment=r_env)\r\n",
        "aks_config = AksWebservice.deploy_configuration(collect_model_data=True, enable_app_insights=True)\r\n",
        "\r\n",
        "# # Sample r model or reference file\r\n",
        "# azureml_r_model = Model.register(workspace=ws,\r\n",
        "#                        model_name='my-r-model',      # Name of the registered model in your workspace.\r\n",
        "#                        model_path='/tmp/class.rds',  # Local file to upload and register as a model.\r\n",
        "#                        description='R Model RDS',\r\n",
        "#                        tags={'area': 'azureml', 'type': 'databricks notebook', 'language': 'R'})\r\n",
        "# R entry script \r\n",
        "azureml_r_entry_script = Model.register(workspace=ws,\r\n",
        "                       model_name='my-r-script', # Name of the registered model in your workspace.\r\n",
        "                       model_path='./score.R',   # Local file to upload and register as a model.\r\n",
        "                       description='R model scoring scrpt',\r\n",
        "                       tags={'area': 'azureml', 'type': 'databricks notebook', 'language': 'R'})\r\n",
        "\r\n",
        "# Deploy webservice\r\n",
        "print(\"Deploying web service\")\r\n",
        "aks_service = Model.deploy(workspace=ws,\r\n",
        "                           name=\"r-model-f-to-c\",\r\n",
        "                           models=[azureml_r_entry_script],\r\n",
        "                           inference_config=inference_config,\r\n",
        "                           deployment_config=aks_config,\r\n",
        "                           deployment_target=aks_target,\r\n",
        "                          overwrite=True)\r\n",
        "\r\n",
        "aks_service.wait_for_deployment(show_output = False)\r\n"
      ],
      "outputs": [],
      "execution_count": null,
      "metadata": {
        "jupyter": {
          "source_hidden": false,
          "outputs_hidden": false
        },
        "nteract": {
          "transient": {
            "deleting": false
          }
        }
      }
    }
  ],
  "metadata": {
    "kernelspec": {
      "name": "python3-azureml",
      "language": "python",
      "display_name": "Python 3.6 - AzureML"
    },
    "language_info": {
      "name": "python",
      "version": "3.6.9",
      "mimetype": "text/x-python",
      "codemirror_mode": {
        "name": "ipython",
        "version": 3
      },
      "pygments_lexer": "ipython3",
      "nbconvert_exporter": "python",
      "file_extension": ".py"
    },
    "kernel_info": {
      "name": "python3-azureml"
    },
    "nteract": {
      "version": "nteract-front-end@1.0.0"
    }
  },
  "nbformat": 4,
  "nbformat_minor": 0
}